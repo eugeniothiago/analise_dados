{
  "nbformat": 4,
  "nbformat_minor": 0,
  "metadata": {
    "colab": {
      "name": "notebookEcommerceBR 2016 - 2018.ipynb",
      "provenance": [],
      "authorship_tag": "ABX9TyOgReAwNHqsoVxwNUVCC1Yp",
      "include_colab_link": true
    },
    "kernelspec": {
      "name": "python3",
      "display_name": "Python 3"
    }
  },
  "cells": [
    {
      "cell_type": "markdown",
      "metadata": {
        "id": "view-in-github",
        "colab_type": "text"
      },
      "source": [
        "<a href=\"https://colab.research.google.com/github/eugeniothiago/analise_dados/blob/main/notebookEcommerceBR_2016_2018.ipynb\" target=\"_parent\"><img src=\"https://colab.research.google.com/assets/colab-badge.svg\" alt=\"Open In Colab\"/></a>"
      ]
    },
    {
      "cell_type": "markdown",
      "metadata": {
        "id": "n-dtr2irwYBZ"
      },
      "source": [
        "#Análise dos dados de Ecommerce no Brasil: 2016 e 2018\r\n",
        "*por [Thiago Eugênio](https://www.linkedin.com/in/eugeniothiago/)*\r\n",
        "\r\n",
        "\r\n",
        "\r\n",
        "O E-commerce no Brasil é um mercado em plena expansão, tendo uma expressiva alta de 47% entre 1º de 2019 e o 1º semestre de 2020 ([fonte](https://www.meioemensagem.com.br/home/marketing/2020/08/27/e-commerce-cresce-47-maior-alta-em-20-anos.html)), impulsionado em grande parte pela pandemia, que acelerou ainda mais o já próspero crescimento do setor. Neste notebook, abordaremos a evolução do mercado entre 2017 e 2018, realizando uma análise exploratória e descritiva dos dados disponibilizados na plataforma kaggle.\r\n",
        "\r\n",
        "##Análise Exploratória\r\n",
        "\r\n",
        "É dificil delimitar o que é a analise exploratória, pois ela envolve toda a etapa a partir da aquisição do banco de dados/arquivo e importação deste até as manipulações aplicáveis.\r\n",
        "\r\n",
        "As técnicas são inúmeras e dependentes de cada problema e *dataset*. O objetivo deste notebook é demonstrar por tabelas e gráficos algumas estatísticas do setor, bem como realizar *insights* de negócio. Vamos começar então importando os dados utilizando a biblioteca **pandas** para análise, tratamento e manipulação de dados, e a biblioteca **matplotlib.pyplot**, que nos auxiliará na elaboração dos gráficos."
      ]
    },
    {
      "cell_type": "code",
      "metadata": {
        "id": "fG12idxKwSUL"
      },
      "source": [
        "# Importando as bibliotecas necessárias para a análise\r\n",
        "\r\n",
        "import pandas as pd\r\n",
        "import matplotlib.pyplot as plt\r\n",
        "\r\n",
        "# Importando os arquivos csv\r\n",
        "\r\n",
        "orders = pd.read_csv('https://raw.githubusercontent.com/eugeniothiago/datasets/master/olist_orders.csv')\r\n",
        "products = pd.read_csv('https://raw.githubusercontent.com/eugeniothiago/datasets/master/olist_products.csv')\r\n",
        "variables = pd.read_csv('https://raw.githubusercontent.com/eugeniothiago/datasets/master/olist_variables_description.csv')"
      ],
      "execution_count": 24,
      "outputs": []
    },
    {
      "cell_type": "markdown",
      "metadata": {
        "id": "YSpnDto9UZdi"
      },
      "source": [
        "Inicialmente, veremos como é a formatação dos datasets disponíveis. Isto é importante para entendermos melhor como manipular os dados. Para tal, usaremos as funções *shape*, que retorna a quantidade de linhas e colunas do dataset e *columns*, que detalha as colunas do dataset e o tipo de dataframe."
      ]
    },
    {
      "cell_type": "code",
      "metadata": {
        "colab": {
          "base_uri": "https://localhost:8080/"
        },
        "id": "YZOub9ebUq60",
        "outputId": "62b5db7a-8ccb-40bb-d5df-33669f724ec4"
      },
      "source": [
        "# Verificando as colunas principais dos dataframes\r\n",
        "\r\n",
        "print('\\n\\n', orders.columns, '\\n\\n',products.columns, '\\n\\n', variables.columns,'\\n')\r\n",
        "\r\n",
        "# Entendendo a disposição dos datasets\r\n",
        "\r\n",
        "print(\"DIMENSÕES DO DATAFRAME DE PEDIDOS:\")\r\n",
        "print(\"Linhas:\\t\\t{}\".format(orders.shape[0]))\r\n",
        "print(\"Colunas:\\t{}\".format(orders.shape[1]),'\\n')\r\n",
        "\r\n",
        "print(\"DIMENSÕES DO DATAFRAME DE PRODUTOS:\")\r\n",
        "print(\"Linhas:\\t\\t{}\".format(products.shape[0]))\r\n",
        "print(\"Colunas:\\t{}\".format(products.shape[1]),'\\n')\r\n",
        "\r\n",
        "print(\"DIMENSÕES DO DATAFRAME DE VARIÁVEIS:\")\r\n",
        "print(\"Linhas:\\t\\t{}\".format(variables.shape[0]))\r\n",
        "print(\"Colunas:\\t{}\".format(variables.shape[1]))"
      ],
      "execution_count": null,
      "outputs": [
        {
          "output_type": "stream",
          "text": [
            "\n",
            "\n",
            " Index(['order_id', 'product_id', 'seller_id', 'customer_id', 'price',\n",
            "       'freight_value', 'order_delivered_customer_date',\n",
            "       'order_estimated_delivery_date', 'seller_city', 'seller_state',\n",
            "       'customer_city', 'customer_state'],\n",
            "      dtype='object') \n",
            "\n",
            " Index(['product_id', 'product_category_name'], dtype='object') \n",
            "\n",
            " Index(['Variável', 'Dataset', 'Descrição'], dtype='object') \n",
            "\n",
            "DIMENSÕES DO DATAFRAME DE PEDIDOS:\n",
            "Linhas:\t\t112650\n",
            "Colunas:\t12 \n",
            "\n",
            "DIMENSÕES DO DATAFRAME DE PRODUTOS:\n",
            "Linhas:\t\t32951\n",
            "Colunas:\t2 \n",
            "\n",
            "DIMENSÕES DO DATAFRAME DE VARIÁVEIS:\n",
            "Linhas:\t\t14\n",
            "Colunas:\t3\n"
          ],
          "name": "stdout"
        }
      ]
    },
    {
      "cell_type": "markdown",
      "metadata": {
        "id": "ZeNZcBA-4mbE"
      },
      "source": [
        "Vamos então analisar as primeiras 5 entradas de cada arquivo utilizando a função *.head()*. "
      ]
    },
    {
      "cell_type": "code",
      "metadata": {
        "colab": {
          "base_uri": "https://localhost:8080/",
          "height": 253
        },
        "id": "quvoiJmX4uNe",
        "outputId": "51f3a2ef-a601-45d4-d835-b137b9f25104"
      },
      "source": [
        "orders.head(5)"
      ],
      "execution_count": null,
      "outputs": [
        {
          "output_type": "execute_result",
          "data": {
            "text/html": [
              "<div>\n",
              "<style scoped>\n",
              "    .dataframe tbody tr th:only-of-type {\n",
              "        vertical-align: middle;\n",
              "    }\n",
              "\n",
              "    .dataframe tbody tr th {\n",
              "        vertical-align: top;\n",
              "    }\n",
              "\n",
              "    .dataframe thead th {\n",
              "        text-align: right;\n",
              "    }\n",
              "</style>\n",
              "<table border=\"1\" class=\"dataframe\">\n",
              "  <thead>\n",
              "    <tr style=\"text-align: right;\">\n",
              "      <th></th>\n",
              "      <th>order_id</th>\n",
              "      <th>product_id</th>\n",
              "      <th>seller_id</th>\n",
              "      <th>customer_id</th>\n",
              "      <th>price</th>\n",
              "      <th>freight_value</th>\n",
              "      <th>order_delivered_customer_date</th>\n",
              "      <th>order_estimated_delivery_date</th>\n",
              "      <th>seller_city</th>\n",
              "      <th>seller_state</th>\n",
              "      <th>customer_city</th>\n",
              "      <th>customer_state</th>\n",
              "    </tr>\n",
              "  </thead>\n",
              "  <tbody>\n",
              "    <tr>\n",
              "      <th>0</th>\n",
              "      <td>00010242fe8c5a6d1ba2dd792cb16214</td>\n",
              "      <td>4244733e06e7ecb4970a6e2683c13e61</td>\n",
              "      <td>48436dade18ac8b2bce089ec2a041202</td>\n",
              "      <td>3ce436f183e68e07877b285a838db11a</td>\n",
              "      <td>58.90</td>\n",
              "      <td>13.29</td>\n",
              "      <td>2017-09-20 23:43:48</td>\n",
              "      <td>2017-09-29 00:00:00</td>\n",
              "      <td>volta redonda</td>\n",
              "      <td>SP</td>\n",
              "      <td>campos dos goytacazes</td>\n",
              "      <td>RJ</td>\n",
              "    </tr>\n",
              "    <tr>\n",
              "      <th>1</th>\n",
              "      <td>00018f77f2f0320c557190d7a144bdd3</td>\n",
              "      <td>e5f2d52b802189ee658865ca93d83a8f</td>\n",
              "      <td>dd7ddc04e1b6c2c614352b383efe2d36</td>\n",
              "      <td>f6dd3ec061db4e3987629fe6b26e5cce</td>\n",
              "      <td>239.90</td>\n",
              "      <td>19.93</td>\n",
              "      <td>2017-05-12 16:04:24</td>\n",
              "      <td>2017-05-15 00:00:00</td>\n",
              "      <td>sao paulo</td>\n",
              "      <td>SP</td>\n",
              "      <td>santa fe do sul</td>\n",
              "      <td>SP</td>\n",
              "    </tr>\n",
              "    <tr>\n",
              "      <th>2</th>\n",
              "      <td>000229ec398224ef6ca0657da4fc703e</td>\n",
              "      <td>c777355d18b72b67abbeef9df44fd0fd</td>\n",
              "      <td>5b51032eddd242adc84c38acab88f23d</td>\n",
              "      <td>6489ae5e4333f3693df5ad4372dab6d3</td>\n",
              "      <td>199.00</td>\n",
              "      <td>17.87</td>\n",
              "      <td>2018-01-22 13:19:16</td>\n",
              "      <td>2018-02-05 00:00:00</td>\n",
              "      <td>borda da mata</td>\n",
              "      <td>MG</td>\n",
              "      <td>para de minas</td>\n",
              "      <td>MG</td>\n",
              "    </tr>\n",
              "    <tr>\n",
              "      <th>3</th>\n",
              "      <td>00024acbcdf0a6daa1e931b038114c75</td>\n",
              "      <td>7634da152a4610f1595efa32f14722fc</td>\n",
              "      <td>9d7a1d34a5052409006425275ba1c2b4</td>\n",
              "      <td>d4eb9395c8c0431ee92fce09860c5a06</td>\n",
              "      <td>12.99</td>\n",
              "      <td>12.79</td>\n",
              "      <td>2018-08-14 13:32:39</td>\n",
              "      <td>2018-08-20 00:00:00</td>\n",
              "      <td>franca</td>\n",
              "      <td>SP</td>\n",
              "      <td>atibaia</td>\n",
              "      <td>SP</td>\n",
              "    </tr>\n",
              "    <tr>\n",
              "      <th>4</th>\n",
              "      <td>00042b26cf59d7ce69dfabb4e55b4fd9</td>\n",
              "      <td>ac6c3623068f30de03045865e4e10089</td>\n",
              "      <td>df560393f3a51e74553ab94004ba5c87</td>\n",
              "      <td>58dbd0b2d70206bf40e62cd34e84d795</td>\n",
              "      <td>199.90</td>\n",
              "      <td>18.14</td>\n",
              "      <td>2017-03-01 16:42:31</td>\n",
              "      <td>2017-03-17 00:00:00</td>\n",
              "      <td>loanda</td>\n",
              "      <td>PR</td>\n",
              "      <td>varzea paulista</td>\n",
              "      <td>SP</td>\n",
              "    </tr>\n",
              "  </tbody>\n",
              "</table>\n",
              "</div>"
            ],
            "text/plain": [
              "                           order_id  ... customer_state\n",
              "0  00010242fe8c5a6d1ba2dd792cb16214  ...             RJ\n",
              "1  00018f77f2f0320c557190d7a144bdd3  ...             SP\n",
              "2  000229ec398224ef6ca0657da4fc703e  ...             MG\n",
              "3  00024acbcdf0a6daa1e931b038114c75  ...             SP\n",
              "4  00042b26cf59d7ce69dfabb4e55b4fd9  ...             SP\n",
              "\n",
              "[5 rows x 12 columns]"
            ]
          },
          "metadata": {
            "tags": []
          },
          "execution_count": 13
        }
      ]
    },
    {
      "cell_type": "code",
      "metadata": {
        "colab": {
          "base_uri": "https://localhost:8080/",
          "height": 198
        },
        "id": "ebmMFcFQ7uP5",
        "outputId": "cd824bdd-048f-473a-f188-6b4fbcf854eb"
      },
      "source": [
        "products.head(5)"
      ],
      "execution_count": null,
      "outputs": [
        {
          "output_type": "execute_result",
          "data": {
            "text/html": [
              "<div>\n",
              "<style scoped>\n",
              "    .dataframe tbody tr th:only-of-type {\n",
              "        vertical-align: middle;\n",
              "    }\n",
              "\n",
              "    .dataframe tbody tr th {\n",
              "        vertical-align: top;\n",
              "    }\n",
              "\n",
              "    .dataframe thead th {\n",
              "        text-align: right;\n",
              "    }\n",
              "</style>\n",
              "<table border=\"1\" class=\"dataframe\">\n",
              "  <thead>\n",
              "    <tr style=\"text-align: right;\">\n",
              "      <th></th>\n",
              "      <th>product_id</th>\n",
              "      <th>product_category_name</th>\n",
              "    </tr>\n",
              "  </thead>\n",
              "  <tbody>\n",
              "    <tr>\n",
              "      <th>0</th>\n",
              "      <td>1e9e8ef04dbcff4541ed26657ea517e5</td>\n",
              "      <td>perfumaria</td>\n",
              "    </tr>\n",
              "    <tr>\n",
              "      <th>1</th>\n",
              "      <td>3aa071139cb16b67ca9e5dea641aaa2f</td>\n",
              "      <td>artes</td>\n",
              "    </tr>\n",
              "    <tr>\n",
              "      <th>2</th>\n",
              "      <td>96bd76ec8810374ed1b65e291975717f</td>\n",
              "      <td>esporte_lazer</td>\n",
              "    </tr>\n",
              "    <tr>\n",
              "      <th>3</th>\n",
              "      <td>cef67bcfe19066a932b7673e239eb23d</td>\n",
              "      <td>bebes</td>\n",
              "    </tr>\n",
              "    <tr>\n",
              "      <th>4</th>\n",
              "      <td>9dc1a7de274444849c219cff195d0b71</td>\n",
              "      <td>utilidades_domesticas</td>\n",
              "    </tr>\n",
              "  </tbody>\n",
              "</table>\n",
              "</div>"
            ],
            "text/plain": [
              "                         product_id  product_category_name\n",
              "0  1e9e8ef04dbcff4541ed26657ea517e5             perfumaria\n",
              "1  3aa071139cb16b67ca9e5dea641aaa2f                  artes\n",
              "2  96bd76ec8810374ed1b65e291975717f          esporte_lazer\n",
              "3  cef67bcfe19066a932b7673e239eb23d                  bebes\n",
              "4  9dc1a7de274444849c219cff195d0b71  utilidades_domesticas"
            ]
          },
          "metadata": {
            "tags": []
          },
          "execution_count": 14
        }
      ]
    },
    {
      "cell_type": "code",
      "metadata": {
        "colab": {
          "base_uri": "https://localhost:8080/",
          "height": 198
        },
        "id": "FO1FFWjdTEo0",
        "outputId": "3c0f29ab-0e38-4fc0-a77b-fe49ad49168a"
      },
      "source": [
        "variables.head(5)"
      ],
      "execution_count": null,
      "outputs": [
        {
          "output_type": "execute_result",
          "data": {
            "text/html": [
              "<div>\n",
              "<style scoped>\n",
              "    .dataframe tbody tr th:only-of-type {\n",
              "        vertical-align: middle;\n",
              "    }\n",
              "\n",
              "    .dataframe tbody tr th {\n",
              "        vertical-align: top;\n",
              "    }\n",
              "\n",
              "    .dataframe thead th {\n",
              "        text-align: right;\n",
              "    }\n",
              "</style>\n",
              "<table border=\"1\" class=\"dataframe\">\n",
              "  <thead>\n",
              "    <tr style=\"text-align: right;\">\n",
              "      <th></th>\n",
              "      <th>Variável</th>\n",
              "      <th>Dataset</th>\n",
              "      <th>Descrição</th>\n",
              "    </tr>\n",
              "  </thead>\n",
              "  <tbody>\n",
              "    <tr>\n",
              "      <th>0</th>\n",
              "      <td>order_id</td>\n",
              "      <td>olist_orders</td>\n",
              "      <td>Identificador único do pedido</td>\n",
              "    </tr>\n",
              "    <tr>\n",
              "      <th>1</th>\n",
              "      <td>product_id</td>\n",
              "      <td>olist_orders</td>\n",
              "      <td>Identificador único do produto</td>\n",
              "    </tr>\n",
              "    <tr>\n",
              "      <th>2</th>\n",
              "      <td>seller_id</td>\n",
              "      <td>olist_orders</td>\n",
              "      <td>Identificador único do vendedor</td>\n",
              "    </tr>\n",
              "    <tr>\n",
              "      <th>3</th>\n",
              "      <td>customer_id</td>\n",
              "      <td>olist_orders</td>\n",
              "      <td>Identificador único do cliente</td>\n",
              "    </tr>\n",
              "    <tr>\n",
              "      <th>4</th>\n",
              "      <td>price</td>\n",
              "      <td>olist_orders</td>\n",
              "      <td>Preço do item</td>\n",
              "    </tr>\n",
              "  </tbody>\n",
              "</table>\n",
              "</div>"
            ],
            "text/plain": [
              "      Variável       Dataset                        Descrição\n",
              "0     order_id  olist_orders    Identificador único do pedido\n",
              "1   product_id  olist_orders   Identificador único do produto\n",
              "2    seller_id  olist_orders  Identificador único do vendedor\n",
              "3  customer_id  olist_orders   Identificador único do cliente\n",
              "4        price  olist_orders                    Preço do item"
            ]
          },
          "metadata": {
            "tags": []
          },
          "execution_count": 35
        }
      ]
    },
    {
      "cell_type": "markdown",
      "metadata": {
        "id": "UfT6rsPLzYgh"
      },
      "source": [
        "Algumas considerações iniciais sobre os datasets:\r\n",
        "\r\n",
        "* O dataset `orders` possui 4 colunas de identificação, sendo elas `['customer_id','product_id','order_id' e 'seller_id']`. São colunas relevantes para realizarmos grupamentos por vendedor, produto, e consumidor. Os campos `price` e `freight_value`são os únicos numéricos no dataset, mas extremamente relevantes para analisarmos médias, somatórios e demais agrupamentos em gráficos. Todos os dados já estão normalizados, portanto não sendo necessário um tratamento adicional como uma normalização, por exemplo.\r\n",
        "*  `Products` traz o id único de cada produto na coluna `product_id` e as categorias dos produtos na coluna `product_category_name`. São duas colunas interessantes para explorarmos realizando *joins* entre as tabelas `orders` e `products`, de forma a agrupar valores por tipo de produto, por exemplo.\r\n",
        "* Por último, o dataset `variables` nos apresenta todas as variáveis dos outros dois datasets e suas descrições. "
      ]
    },
    {
      "cell_type": "markdown",
      "metadata": {
        "id": "MnOeMSYHdXqU"
      },
      "source": [
        "Vamos agora utilizar a função *describe* para realizar o cálculo de estatísticas básicas das colunas numéricas do dataset `orders`"
      ]
    },
    {
      "cell_type": "code",
      "metadata": {
        "colab": {
          "base_uri": "https://localhost:8080/"
        },
        "id": "exMET-iTdk_X",
        "outputId": "2be39115-657b-493d-84e5-f708dfbaf743"
      },
      "source": [
        "#apresentando os valores do dataset orders\r\n",
        "\r\n",
        "print(orders.describe(),'\\n\\n', orders.describe().mean())\r\n"
      ],
      "execution_count": 22,
      "outputs": [
        {
          "output_type": "stream",
          "text": [
            "               price  freight_value\n",
            "count  112650.000000  112650.000000\n",
            "mean      120.653739      19.990320\n",
            "std       183.633928      15.806405\n",
            "min         0.850000       0.000000\n",
            "25%        39.900000      13.080000\n",
            "50%        74.990000      16.260000\n",
            "75%       134.900000      21.150000\n",
            "max      6735.000000     409.680000 \n",
            "\n",
            " price            14992.490958\n",
            "freight_value    14143.245841\n",
            "dtype: float64\n"
          ],
          "name": "stdout"
        }
      ]
    },
    {
      "cell_type": "markdown",
      "metadata": {
        "id": "cgZEgt9CrSVU"
      },
      "source": [
        "Vemos que existem 112.650 mil registros únicos nesta tabela ( linha `count`), a média de valor para os produtos (`price`) para o dataset `orders` é de 120,65 reais com mediana de 127,77 reais. Já para o frete ( coluna `freight_value`), a média é de 19,90 reais com mediana de 18,12 reais. É interessante vermos que cerca de 50% de todas as entradas de preços de produtos tem um valor menor ou igual a 79,90 reais. Isso nos mostra que, dentro deste dataset, existem *outliers*, ou seja, valores muito fora da medida comum de dois desvios padrões que cobrem 95% da amostra - Neste caso em específico, os *outliers* da coluna `price` estão **acima** dos dois desvios padrões, distorcendo as estatísticas de média para cima. Há grande variabilidade entre os valores da tabela `price`, tanto que o desvio padrão (linha `std`) possui valor superior à média (linha `mean`).\r\n",
        "\r\n",
        "Podemos então a partir dos dados apresentados expandir um pouco mais a análise. Começemos com o preço médio\r\n",
        "dos pedidos e dos fretes agrupados por Estado."
      ]
    },
    {
      "cell_type": "code",
      "metadata": {
        "colab": {
          "base_uri": "https://localhost:8080/",
          "height": 369
        },
        "id": "_s6FfHCxrpLd",
        "outputId": "eb7eb5a5-10fc-4be1-c04b-603979e10f7c"
      },
      "source": [
        "# definindo as variáveis para o gráfico\r\n",
        "\r\n",
        "orders_graph = (orders.groupby(['customer_state'])\r\n",
        "                .mean()\r\n",
        "                .sort_values(by=['price'], ascending=False))\r\n",
        "\r\n",
        "# adicionando atributos ao gráfico\r\n",
        "\r\n",
        "fig, ax= plt.subplots(figsize=(18,5))\r\n",
        "fig.set_facecolor('xkcd:white')\r\n",
        "orders_graph.plot(kind='bar',ax=ax)\r\n",
        "ax.set_title('Preço médio de pedidos por estado')\r\n",
        "ax.set_xlabel('Estados dos consumidores')\r\n",
        "ax.set_ylabel('Preço médio (em reais)')\r\n",
        "ax.set_facecolor('xkcd:white')\r\n",
        "ax.legend(('Preço do Produto','Preço do Frete'))\r\n",
        "plt.tight_layout()"
      ],
      "execution_count": 27,
      "outputs": [
        {
          "output_type": "display_data",
          "data": {
            "image/png": "[encoded data removed]",
            "text/plain": [
              "<Figure size 1296x360 with 1 Axes>"
            ]
          },
          "metadata": {
            "tags": []
          }
        }
      ]
    },
    {
      "cell_type": "markdown",
      "metadata": {
        "id": "NkCzA7v920-t"
      },
      "source": [
        "Podemos ver que neste dataset o estado que tem a maior média de gastos com produtos é a Paraíba, seguido de diversos estados do Norte e Nordeste brasileiro. Isso pode indicar que estas regiões tendem a gastar em produtos mais caros no e-commerce por serem regiões com fretes mais caros, fazendo \"valer\" o custo. Esse tipo de informação pode auxiliar um gestor em uma tomada de decisão quanto aos investimentos em logística e infraestrutura de um e-commerce, a depender do tipo de produto que ele costuma vender. Expandiremos a análise de custos por produto mais adiante. De forma complementar, é possível ver de modo geral que os custos de frete são superiores em estados que não estejam no eixo Sul-Sudeste.\r\n",
        "\r\n",
        "Iremos agora agrupar os valores de preço e frete por categoria de produto. Para isso usaremos duas tabelas: a `orders` e a `products` através de um *merge*. Essa função da biblioteca pandas une colunas de dois datasets a partir de um valor-chave em comum, semelhante ao *join* do SQL. No caso de nossos datasets, o dado em comum é a coluna *product_id*.  Utilizaremos o argumento *left* para indicar ao python que queremos que ele retorne todos os valores da tabela products que existam na tabela orders e o argumento *on* será o \"elo\" de ligação entre as duas tabelas. É importante se tenha ciência da ordem de seleção das tabelas e a forma que será feito o join para que se tenha um novo dataset que atenda às especificações desejadas."
      ]
    },
    {
      "cell_type": "code",
      "metadata": {
        "colab": {
          "base_uri": "https://localhost:8080/",
          "height": 253
        },
        "id": "vFKK8ezY20oA",
        "outputId": "e37ce9be-5419-42b9-c48d-7a4089605b5e"
      },
      "source": [
        "# realizando o join entre as tabelas\r\n",
        "join= pd.merge(orders, products, how='left', on='product_id')\r\n",
        "\r\n",
        "# analizando o resultado através do comando head\r\n",
        "\r\n",
        "join.head()"
      ],
      "execution_count": 2,
      "outputs": [
        {
          "output_type": "execute_result",
          "data": {
            "text/html": [
              "<div>\n",
              "<style scoped>\n",
              "    .dataframe tbody tr th:only-of-type {\n",
              "        vertical-align: middle;\n",
              "    }\n",
              "\n",
              "    .dataframe tbody tr th {\n",
              "        vertical-align: top;\n",
              "    }\n",
              "\n",
              "    .dataframe thead th {\n",
              "        text-align: right;\n",
              "    }\n",
              "</style>\n",
              "<table border=\"1\" class=\"dataframe\">\n",
              "  <thead>\n",
              "    <tr style=\"text-align: right;\">\n",
              "      <th></th>\n",
              "      <th>order_id</th>\n",
              "      <th>product_id</th>\n",
              "      <th>seller_id</th>\n",
              "      <th>customer_id</th>\n",
              "      <th>price</th>\n",
              "      <th>freight_value</th>\n",
              "      <th>order_delivered_customer_date</th>\n",
              "      <th>order_estimated_delivery_date</th>\n",
              "      <th>seller_city</th>\n",
              "      <th>seller_state</th>\n",
              "      <th>customer_city</th>\n",
              "      <th>customer_state</th>\n",
              "      <th>product_category_name</th>\n",
              "    </tr>\n",
              "  </thead>\n",
              "  <tbody>\n",
              "    <tr>\n",
              "      <th>0</th>\n",
              "      <td>00010242fe8c5a6d1ba2dd792cb16214</td>\n",
              "      <td>4244733e06e7ecb4970a6e2683c13e61</td>\n",
              "      <td>48436dade18ac8b2bce089ec2a041202</td>\n",
              "      <td>3ce436f183e68e07877b285a838db11a</td>\n",
              "      <td>58.90</td>\n",
              "      <td>13.29</td>\n",
              "      <td>2017-09-20 23:43:48</td>\n",
              "      <td>2017-09-29 00:00:00</td>\n",
              "      <td>volta redonda</td>\n",
              "      <td>SP</td>\n",
              "      <td>campos dos goytacazes</td>\n",
              "      <td>RJ</td>\n",
              "      <td>cool_stuff</td>\n",
              "    </tr>\n",
              "    <tr>\n",
              "      <th>1</th>\n",
              "      <td>00018f77f2f0320c557190d7a144bdd3</td>\n",
              "      <td>e5f2d52b802189ee658865ca93d83a8f</td>\n",
              "      <td>dd7ddc04e1b6c2c614352b383efe2d36</td>\n",
              "      <td>f6dd3ec061db4e3987629fe6b26e5cce</td>\n",
              "      <td>239.90</td>\n",
              "      <td>19.93</td>\n",
              "      <td>2017-05-12 16:04:24</td>\n",
              "      <td>2017-05-15 00:00:00</td>\n",
              "      <td>sao paulo</td>\n",
              "      <td>SP</td>\n",
              "      <td>santa fe do sul</td>\n",
              "      <td>SP</td>\n",
              "      <td>pet_shop</td>\n",
              "    </tr>\n",
              "    <tr>\n",
              "      <th>2</th>\n",
              "      <td>000229ec398224ef6ca0657da4fc703e</td>\n",
              "      <td>c777355d18b72b67abbeef9df44fd0fd</td>\n",
              "      <td>5b51032eddd242adc84c38acab88f23d</td>\n",
              "      <td>6489ae5e4333f3693df5ad4372dab6d3</td>\n",
              "      <td>199.00</td>\n",
              "      <td>17.87</td>\n",
              "      <td>2018-01-22 13:19:16</td>\n",
              "      <td>2018-02-05 00:00:00</td>\n",
              "      <td>borda da mata</td>\n",
              "      <td>MG</td>\n",
              "      <td>para de minas</td>\n",
              "      <td>MG</td>\n",
              "      <td>moveis_decoracao</td>\n",
              "    </tr>\n",
              "    <tr>\n",
              "      <th>3</th>\n",
              "      <td>00024acbcdf0a6daa1e931b038114c75</td>\n",
              "      <td>7634da152a4610f1595efa32f14722fc</td>\n",
              "      <td>9d7a1d34a5052409006425275ba1c2b4</td>\n",
              "      <td>d4eb9395c8c0431ee92fce09860c5a06</td>\n",
              "      <td>12.99</td>\n",
              "      <td>12.79</td>\n",
              "      <td>2018-08-14 13:32:39</td>\n",
              "      <td>2018-08-20 00:00:00</td>\n",
              "      <td>franca</td>\n",
              "      <td>SP</td>\n",
              "      <td>atibaia</td>\n",
              "      <td>SP</td>\n",
              "      <td>perfumaria</td>\n",
              "    </tr>\n",
              "    <tr>\n",
              "      <th>4</th>\n",
              "      <td>00042b26cf59d7ce69dfabb4e55b4fd9</td>\n",
              "      <td>ac6c3623068f30de03045865e4e10089</td>\n",
              "      <td>df560393f3a51e74553ab94004ba5c87</td>\n",
              "      <td>58dbd0b2d70206bf40e62cd34e84d795</td>\n",
              "      <td>199.90</td>\n",
              "      <td>18.14</td>\n",
              "      <td>2017-03-01 16:42:31</td>\n",
              "      <td>2017-03-17 00:00:00</td>\n",
              "      <td>loanda</td>\n",
              "      <td>PR</td>\n",
              "      <td>varzea paulista</td>\n",
              "      <td>SP</td>\n",
              "      <td>ferramentas_jardim</td>\n",
              "    </tr>\n",
              "  </tbody>\n",
              "</table>\n",
              "</div>"
            ],
            "text/plain": [
              "                           order_id  ... product_category_name\n",
              "0  00010242fe8c5a6d1ba2dd792cb16214  ...            cool_stuff\n",
              "1  00018f77f2f0320c557190d7a144bdd3  ...              pet_shop\n",
              "2  000229ec398224ef6ca0657da4fc703e  ...      moveis_decoracao\n",
              "3  00024acbcdf0a6daa1e931b038114c75  ...            perfumaria\n",
              "4  00042b26cf59d7ce69dfabb4e55b4fd9  ...    ferramentas_jardim\n",
              "\n",
              "[5 rows x 13 columns]"
            ]
          },
          "metadata": {
            "tags": []
          },
          "execution_count": 2
        }
      ]
    },
    {
      "cell_type": "markdown",
      "metadata": {
        "id": "I3asbVlA60yD"
      },
      "source": [
        "Vamos analisar o preço médio de pedidos e fretes por estado e por categoria de produto abaixo com o novo dataset que geramos através do *join*:"
      ]
    },
    {
      "cell_type": "code",
      "metadata": {
        "colab": {
          "base_uri": "https://localhost:8080/",
          "height": 1000
        },
        "id": "GROzaVdf7Aqt",
        "outputId": "fe45d6ca-3b16-47a0-bf85-3c934f448858"
      },
      "source": [
        "# gerando as variáveis\r\n",
        "\r\n",
        "graph= (join.groupby(['product_category_name'])\r\n",
        "        .mean()\r\n",
        "        .sort_values(by=['price'], ascending=False)\r\n",
        "        .head(20))\r\n",
        "\r\n",
        "print(graph.head(20), '\\n')\r\n",
        "\r\n",
        "# definindo parâmetros básicos para plotar os gráficos\r\n",
        "\r\n",
        "fig, ax = plt.subplots(figsize=(18,8))\r\n",
        "\r\n",
        "# plotando o primeiro gráfico\r\n",
        "\r\n",
        "graph.plot(kind='barh',ax=ax)\r\n",
        "ax.set_title('Preço médio de pedidos por categoria')\r\n",
        "ax.set_xlabel('Preço (em reais)')\r\n",
        "ax.xaxis.label.set_fontsize(12)\r\n",
        "ax.yaxis.label.set_fontsize(12)\r\n",
        "ax.set_ylabel('Categorias dos Produtos')\r\n",
        "ax.set_facecolor('xkcd:white')\r\n",
        "ax.legend(('Preço Médio do Produto','Preço Médio do Frete'))\r\n",
        "fig.set_facecolor('xkcd:white')\r\n",
        "\r\n",
        "#utilizando o tight_layout para aproveitar todos os espaços no gráfico\r\n",
        "\r\n",
        "plt.tight_layout()"
      ],
      "execution_count": 26,
      "outputs": [
        {
          "output_type": "stream",
          "text": [
            "                                                      price  freight_value\n",
            "product_category_name                                                     \n",
            "pcs                                             1098.340542      48.454680\n",
            "portateis_casa_forno_e_cafe                      624.285658      36.156053\n",
            "eletrodomesticos_2                               476.124958      44.538571\n",
            "agro_industria_e_comercio                        342.124858      27.564151\n",
            "instrumentos_musicais                            281.616000      27.409544\n",
            "eletroportateis                                  280.778468      23.593888\n",
            "portateis_cozinha_e_preparadores_de_alimentos    264.568667      20.650667\n",
            "telefonia_fixa                                   225.693182      17.567462\n",
            "construcao_ferramentas_seguranca                 208.992371      20.201546\n",
            "relogios_presentes                               201.135984      16.781160\n",
            "climatizacao                                     185.269226      22.724680\n",
            "moveis_quarto                                    183.750275      42.497523\n",
            "pc_gamer                                         171.772222      14.841111\n",
            "cool_stuff                                       167.357969      22.138857\n",
            "moveis_cozinha_area_de_servico_jantar_e_jardim   164.869644      42.702598\n",
            "moveis_escritorio                                162.011059      40.551124\n",
            "musica                                           158.798684      18.171316\n",
            "construcao_ferramentas_construcao                155.734758      22.228644\n",
            "construcao_ferramentas_ferramentas               154.407282      19.710874\n",
            "industria_comercio_e_negocios                    148.020933      29.420448 \n",
            "\n"
          ],
          "name": "stdout"
        },
        {
          "output_type": "display_data",
          "data": {
            "image/png": "[encoded data removed]",
            "text/plain": [
              "<Figure size 1296x576 with 1 Axes>"
            ]
          },
          "metadata": {
            "tags": []
          }
        }
      ]
    },
    {
      "cell_type": "markdown",
      "metadata": {
        "id": "EKf9jqSLvajr"
      },
      "source": [
        "Como disposto no gráfico, a categoria que tem a maior média de preços é `pcs/pc_gamer`, o que faz sentido por se tratar de um produto composto de outros produtos que também tem um *ticket* alto. Condizente com as restrições logísticas de dimensões e peso, as categorias de móveis e eletrodomésticos são as que possuem os maiores valores médios de frete. \r\n",
        "\r\n",
        "E como são distribuídos os pedidos por estados?"
      ]
    },
    {
      "cell_type": "code",
      "metadata": {
        "colab": {
          "base_uri": "https://localhost:8080/",
          "height": 896
        },
        "id": "r9mIIxG-viSO",
        "outputId": "c1c02799-099c-4fd3-dabc-34e8f234f180"
      },
      "source": [
        "# definindo variável que armazenará os valores acumulados por Estado\r\n",
        "\r\n",
        "graph3 = orders.customer_state.value_counts()\r\n",
        "print(graph3,'\\n')\r\n",
        "\r\n",
        "#plotando o gráfico\r\n",
        "fig,ax= plt.subplots(figsize=(18,5))\r\n",
        "graph3.plot(kind='bar', ax=ax)\r\n",
        "ax.set_title('Pedidos por Estado')\r\n",
        "ax.set_xlabel('Municípios dos consumidores')\r\n",
        "ax.xaxis.label.set_fontsize(12)\r\n",
        "ax.yaxis.label.set_fontsize(12)\r\n",
        "ax.set_yscale('log')\r\n",
        "ax.set_ylabel('Número de pedidos')\r\n",
        "ax.set_facecolor('xkcd:white')\r\n",
        "fig.set_facecolor('xkcd:white')\r\n",
        "\r\n",
        "plt.tight_layout()"
      ],
      "execution_count": 8,
      "outputs": [
        {
          "output_type": "stream",
          "text": [
            "SP    47449\n",
            "RJ    14579\n",
            "MG    13129\n",
            "RS     6235\n",
            "PR     5740\n",
            "SC     4176\n",
            "BA     3799\n",
            "DF     2406\n",
            "GO     2333\n",
            "ES     2256\n",
            "PE     1806\n",
            "CE     1478\n",
            "PA     1080\n",
            "MT     1055\n",
            "MA      824\n",
            "MS      819\n",
            "PB      602\n",
            "PI      542\n",
            "RN      529\n",
            "AL      444\n",
            "SE      385\n",
            "TO      315\n",
            "RO      278\n",
            "AM      165\n",
            "AC       92\n",
            "AP       82\n",
            "RR       52\n",
            "Name: customer_state, dtype: int64 \n",
            "\n"
          ],
          "name": "stdout"
        },
        {
          "output_type": "display_data",
          "data": {
            "image/png": "[encoded data removed]",
            "text/plain": [
              "<Figure size 1296x360 with 1 Axes>"
            ]
          },
          "metadata": {
            "tags": []
          }
        }
      ]
    },
    {
      "cell_type": "markdown",
      "metadata": {
        "id": "m52PC3f5Oupp"
      },
      "source": [
        "São Paulo se sobresai, tendo mais que o triplo de pedidos do segundo colocado, Rio de Janeiro. Isso indica que é um mercado com um e-commerce mais consolidado, contudo este dado também pode ser interpretado como fruto da alta concentração demográfica do estado. O gráfico foi plotado em escala logarítmica para que a discrepância entre os estados seja menor e haja uma melhor visualização/interpretação dos dados.\r\n",
        "\r\n",
        "Vejamos agora o total de pedidos agrupados por estado do vendedor e do comprador. São dados interessantes para se analisar onde estão concentradas as demandas, tanto na parte de entrada de produtos (compradores) quanto na parte de saída (vendedores)."
      ]
    },
    {
      "cell_type": "code",
      "metadata": {
        "colab": {
          "base_uri": "https://localhost:8080/",
          "height": 747
        },
        "id": "t8OH-1n1yF81",
        "outputId": "2db61956-54bd-435e-ef63-374faca999ad"
      },
      "source": [
        "# Definindo as variáveis que trarão os números totais de pedidos por estado do vendedor e do comprador\r\n",
        "\r\n",
        "group_seller_state= (orders.loc[:,['order_id','seller_state']]\r\n",
        "                    .groupby('seller_state')\r\n",
        "                    .count()\r\n",
        "                    .sort_values(by=['order_id'], ascending=False))\r\n",
        "\r\n",
        "group_customer_state= (orders.loc[:,['order_id','customer_state']]\r\n",
        "                       .groupby('customer_state')\r\n",
        "                       .count()\r\n",
        "                       .sort_values(by=['order_id'], ascending=False))\r\n",
        "\r\n",
        "\r\n",
        "# Plotando um gráfico duplo para os dados agrupados acima\r\n",
        "\r\n",
        "fig, (ax1, ax2)= plt.subplots(nrows=2, ncols=1,figsize=(18,10))\r\n",
        "\r\n",
        "group_seller_state.plot(kind='bar',ax=ax1)\r\n",
        "ax1.set_title('Pedidos por Estado')\r\n",
        "ax1.set_yscale('log')\r\n",
        "ax1.set_xlabel('Estado dos vendedores')\r\n",
        "ax1.set_ylabel('Número de pedidos')\r\n",
        "ax1.set_facecolor('xkcd:white')\r\n",
        "ax1.legend('')\r\n",
        "fig.set_facecolor('xkcd:white')\r\n",
        "\r\n",
        "plt.tight_layout()\r\n",
        "\r\n",
        "# Segundo Gráfico\r\n",
        "\r\n",
        "group_customer_state.plot(kind='bar',ax=ax2)\r\n",
        "ax2.set_xlabel('Estados dos consumidores')\r\n",
        "ax2.set_yscale('log')\r\n",
        "ax2.set_ylabel('Número de pedidos')\r\n",
        "ax2.set_facecolor('xkcd:white')\r\n",
        "ax2.legend('')\r\n",
        "fig.set_facecolor('xkcd:white')\r\n",
        "plt.tight_layout()"
      ],
      "execution_count": 21,
      "outputs": [
        {
          "output_type": "stream",
          "text": [
            "order_id order_id\n"
          ],
          "name": "stdout"
        },
        {
          "output_type": "display_data",
          "data": {
            "image/png": "[encoded data removed]",
            "text/plain": [
              "<Figure size 1296x720 with 2 Axes>"
            ]
          },
          "metadata": {
            "tags": []
          }
        }
      ]
    },
    {
      "cell_type": "markdown",
      "metadata": {
        "id": "fe5IoifQXAKF"
      },
      "source": [
        "Como podemos ver, mais uma vez São Paulo detêm o posto de estado que mais realiza o envio e recebimento de produtos, tendo no agrupamento por vendedores uma quantidade quase 10(!) vezes maior que a do segundo colocado, Minas Gerais. No agrupamento por consumidores, vemos que o eixo Sul-Sudeste lidera.\r\n",
        "\r\n",
        "Testaremos agora a correlação entre preço do produto e valor do frete, isto é, verificaremos através de métodos estatísticos disponíveis na biblioteca pandas se o valor do produto por si só impacta no valor do frete de forma significativa:"
      ]
    },
    {
      "cell_type": "code",
      "metadata": {
        "colab": {
          "base_uri": "https://localhost:8080/"
        },
        "id": "GTKuiky2aAAV",
        "outputId": "747738b5-099d-492d-fbb7-75231c06f341"
      },
      "source": [
        "# Definindo a variável que receberá os valores float para verificar a correlação\r\n",
        "\r\n",
        "x = orders.loc[:,['price','freight_value']]\r\n",
        "\r\n",
        "# Apresentação dos valores\r\n",
        "print(\"Correlação com método Pearson:\")\r\n",
        "print(x.corr(method='pearson'),'\\n')\r\n",
        "\r\n",
        "print(\"Correlação com método Spearman:\")\r\n",
        "print(x.corr(method='spearman'),'\\n')\r\n",
        "\r\n",
        "print(\"Correlação com método Kendall:\")\r\n",
        "print(x.corr(method='kendall'),'\\n')"
      ],
      "execution_count": null,
      "outputs": [
        {
          "output_type": "stream",
          "text": [
            "Correlação com método Pearson:\n",
            "                  price  freight_value\n",
            "price          1.000000       0.414204\n",
            "freight_value  0.414204       1.000000 \n",
            "\n",
            "Correlação com método Spearman:\n",
            "                 price  freight_value\n",
            "price          1.00000        0.43419\n",
            "freight_value  0.43419        1.00000 \n",
            "\n",
            "Correlação com método Kendall:\n",
            "                  price  freight_value\n",
            "price          1.000000       0.300516\n",
            "freight_value  0.300516       1.000000 \n",
            "\n"
          ],
          "name": "stdout"
        }
      ]
    },
    {
      "cell_type": "markdown",
      "metadata": {
        "id": "QB3GMoBYhOqe"
      },
      "source": [
        "Podemos ver que há baixa correlação entre os valores de preço do produto e frete entre todos os métodos de análise de correlação (`0,414`, `0,434` e `0,30`) o que significa que o valor do produto não afeta diretamente no preço do frete. No dataset apresentado, o método de correlação mais confiável para basearmos nossa análise é o Spearman, visto que ele:\r\n",
        "\r\n",
        "* Mantém as suposições do modelo de Pearson, que é o mais difundido na elaboração de correlações;\r\n",
        "\r\n",
        "* E adicionalmente não depende da normalidade na distribuição dos dados - no caso do dataset apresentado há a ocorrência de *outliers* nos preços dos produtos;\r\n",
        "\r\n",
        "\r\n",
        "#Conclusões\r\n",
        "\r\n",
        "A partir da análise aqui apresentada, podemos tirar alguns *insights* interessantes sobre o mercado de ecommerce no Brasil entre 2016 e 2018:\r\n",
        "\r\n",
        "* Os estados da região Sudeste gastam, na média, menos quando comparados aos estados de outras regiões, mas compram em maior quantidade;\r\n",
        "* A região com maior movimentação de encomendas é a Sudeste, tendo São Paulo como máximo nas análises de compra e venda entre estados;\r\n",
        "* Estados do Norte e Nordeste tem o frete mais caro do país, em contrapartida são os Estados que tem a maior média de preço por produto;\r\n",
        "* PCs lidera o preço médio dos produtos por categoria;\r\n",
        "* Móveis e eletrodomésticos possuem o maior preço médio de frete em todos os estados. Isso pode indicar a complexidade logística no transporte dos produtos destas categorias;\r\n",
        "* Não há correlação significativa entre os preços médis de produtos e o valor médio do frete.\r\n",
        "\r\n"
      ]
    }
  ]
}